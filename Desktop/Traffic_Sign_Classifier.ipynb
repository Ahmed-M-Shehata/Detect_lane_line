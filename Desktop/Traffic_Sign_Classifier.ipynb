{
 "cells": [
  {
   "cell_type": "markdown",
   "metadata": {},
   "source": [
    "# Self-Driving Car Engineer Nanodegree\n",
    "\n",
    "## Deep Learning\n",
    "\n",
    "## Project: Build a Traffic Sign Recognition Classifier\n",
    "\n",
    "In this notebook, a template is provided for you to implement your functionality in stages, which is required to successfully complete this project. If additional code is required that cannot be included in the notebook, be sure that the Python code is successfully imported and included in your submission if necessary. \n",
    "\n",
    "> **Note**: Once you have completed all of the code implementations, you need to finalize your work by exporting the iPython Notebook as an HTML document. Before exporting the notebook to html, all of the code cells need to have been run so that reviewers can see the final implementation and output. You can then export the notebook by using the menu above and navigating to  \\n\",\n",
    "    \"**File -> Download as -> HTML (.html)**. Include the finished document along with this notebook as your submission. \n",
    "\n",
    "In addition to implementing code, there is a writeup to complete. The writeup should be completed in a separate file, which can be either a markdown file or a pdf document. There is a [write up template](https://github.com/udacity/CarND-Traffic-Sign-Classifier-Project/blob/master/writeup_template.md) that can be used to guide the writing process. Completing the code template and writeup template will cover all of the [rubric points](https://review.udacity.com/#!/rubrics/481/view) for this project.\n",
    "\n",
    "The [rubric](https://review.udacity.com/#!/rubrics/481/view) contains \"Stand Out Suggestions\" for enhancing the project beyond the minimum requirements. The stand out suggestions are optional. If you decide to pursue the \"stand out suggestions\", you can include the code in this Ipython notebook and also discuss the results in the writeup file.\n",
    "\n",
    "\n",
    ">**Note:** Code and Markdown cells can be executed using the **Shift + Enter** keyboard shortcut. In addition, Markdown cells can be edited by typically double-clicking the cell to enter edit mode."
   ]
  },
  {
   "cell_type": "markdown",
   "metadata": {},
   "source": [
    "---\n",
    "## Step 0: Load The Data"
   ]
  },
  {
   "cell_type": "code",
   "execution_count": 2,
   "metadata": {
    "collapsed": true
   },
   "outputs": [],
   "source": [
    "\n",
    "import matplotlib.pyplot as plt\n",
    "import matplotlib.gridspec as gridspec\n",
    "import random\n",
    "import cv2\n",
    "from sklearn.model_selection import train_test_split\n",
    "import numpy as np\n",
    "%matplotlib inline\n",
    "import tensorflow as tf\n",
    "import pickle\n",
    "from tensorflow.contrib.layers import flatten"
   ]
  },
  {
   "cell_type": "code",
   "execution_count": 56,
   "metadata": {
    "collapsed": false
   },
   "outputs": [],
   "source": [
    "# Load pickled data\n",
    "# TODO: Fill this in based on where you saved the training and testing data\n",
    "\n",
    "training_file = 'traffic-signs-data/train.p'\n",
    "testing_file = 'traffic-signs-data/test.p'\n",
    "\n",
    "with open(training_file, mode='rb') as f:\n",
    "    train = pickle.load(f)\n",
    "with open(testing_file, mode='rb') as f:\n",
    "    test = pickle.load(f)\n",
    "    \n",
    "X_train, y_train = train['features'], train['labels']\n",
    "X_test, y_test = test['features'], test['labels']\n"
   ]
  },
  {
   "cell_type": "markdown",
   "metadata": {},
   "source": [
    "---\n",
    "\n",
    "## Step 1: Dataset Summary & Exploration\n",
    "\n",
    "The pickled data is a dictionary with 4 key/value pairs:\n",
    "\n",
    "- `'features'` is a 4D array containing raw pixel data of the traffic sign images, (num examples, width, height, channels).\n",
    "- `'labels'` is a 1D array containing the label/class id of the traffic sign. The file `signnames.csv` contains id -> name mappings for each id.\n",
    "- `'sizes'` is a list containing tuples, (width, height) representing the the original width and height the image.\n",
    "- `'coords'` is a list containing tuples, (x1, y1, x2, y2) representing coordinates of a bounding box around the sign in the image. **THESE COORDINATES ASSUME THE ORIGINAL IMAGE. THE PICKLED DATA CONTAINS RESIZED VERSIONS (32 by 32) OF THESE IMAGES**\n",
    "\n",
    "Complete the basic data summary below. Use python, numpy and/or pandas methods to calculate the data summary rather than hard coding the results. For example, the [pandas shape method](http://pandas.pydata.org/pandas-docs/stable/generated/pandas.DataFrame.shape.html) might be useful for calculating some of the summary results. "
   ]
  },
  {
   "cell_type": "markdown",
   "metadata": {},
   "source": [
    "### Provide a Basic Summary of the Data Set Using Python, Numpy and/or Pandas"
   ]
  },
  {
   "cell_type": "code",
   "execution_count": 4,
   "metadata": {
    "collapsed": false
   },
   "outputs": [
    {
     "name": "stdout",
     "output_type": "stream",
     "text": [
      "Number of training examples = 39209\n",
      "Number of testing examples = 12630\n",
      "Image data shape = (32, 32, 3)\n",
      "Number of classes = 43\n"
     ]
    }
   ],
   "source": [
    "### Replace each question mark with the appropriate value. \n",
    "### Use python, pandas or numpy methods rather than hard coding the results\n",
    "\n",
    "# TODO: Number of training examples\n",
    "n_train = len(X_train)\n",
    "\n",
    "# TODO: Number of testing examples.\n",
    "n_test = len(X_test)\n",
    "\n",
    "# TODO: What's the shape of an traffic sign image?\n",
    "image_shape = X_train[0].shape\n",
    "\n",
    "# TODO: How many unique classes/labels there are in the dataset.\n",
    "n_classes = len(np.unique(y_train))\n",
    "\n",
    "print(\"Number of training examples =\", n_train)\n",
    "print(\"Number of testing examples =\", n_test)\n",
    "print(\"Image data shape =\", image_shape)\n",
    "print(\"Number of classes =\", n_classes)"
   ]
  },
  {
   "cell_type": "markdown",
   "metadata": {},
   "source": [
    "### Include an exploratory visualization of the dataset"
   ]
  },
  {
   "cell_type": "markdown",
   "metadata": {},
   "source": [
    "Visualize the German Traffic Signs Dataset using the pickled file(s). This is open ended, suggestions include: plotting traffic sign images, plotting the count of each sign, etc.\n",
    "\n",
    "The [Matplotlib](http://matplotlib.org/) [examples](http://matplotlib.org/examples/index.html) and [gallery](http://matplotlib.org/gallery.html) pages are a great resource for doing visualizations in Python.\n",
    "\n",
    "**NOTE:** It's recommended you start with something simple first. If you wish to do more, come back to it after you've completed the rest of the sections."
   ]
  },
  {
   "cell_type": "code",
   "execution_count": 5,
   "metadata": {
    "collapsed": false
   },
   "outputs": [
    {
     "name": "stdout",
     "output_type": "stream",
     "text": [
      "1\n"
     ]
    },
    {
     "data": {
      "image/png": "[encoded data removed]",
      "text/plain": [
       "<matplotlib.figure.Figure at 0x11cc142b0>"
      ]
     },
     "metadata": {},
     "output_type": "display_data"
    }
   ],
   "source": [
    "### Data exploration visualization code goes here.\n",
    "### Feel free to use as many code cells as needed.\n",
    "\n",
    "index = random.randint(0, len(X_train))\n",
    "image = X_train[index].squeeze()\n",
    "\n",
    "plt.figure(figsize=(1,1))\n",
    "plt.imshow(image)\n",
    "print(y_train[index])"
   ]
  },
  {
   "cell_type": "markdown",
   "metadata": {},
   "source": [
    "----\n",
    "\n",
    "## Step 2: Design and Test a Model Architecture\n",
    "\n",
    "Design and implement a deep learning model that learns to recognize traffic signs. Train and test your model on the [German Traffic Sign Dataset](http://benchmark.ini.rub.de/?section=gtsrb&subsection=dataset).\n",
    "\n",
    "There are various aspects to consider when thinking about this problem:\n",
    "\n",
    "- Neural network architecture\n",
    "- Play around preprocessing techniques (normalization, rgb to grayscale, etc)\n",
    "- Number of examples per label (some have more than others).\n",
    "- Generate fake data.\n",
    "\n",
    "Here is an example of a [published baseline model on this problem](http://yann.lecun.com/exdb/publis/pdf/sermanet-ijcnn-11.pdf). It's not required to be familiar with the approach used in the paper but, it's good practice to try to read papers like these.\n",
    "\n",
    "**NOTE:** The LeNet-5 implementation shown in the [classroom](https://classroom.udacity.com/nanodegrees/nd013/parts/fbf77062-5703-404e-b60c-95b78b2f3f9e/modules/6df7ae49-c61c-4bb2-a23e-6527e69209ec/lessons/601ae704-1035-4287-8b11-e2c2716217ad/concepts/d4aca031-508f-4e0b-b493-e7b706120f81) at the end of the CNN lesson is a solid starting point. You'll have to change the number of classes and possibly the preprocessing, but aside from that it's plug and play!"
   ]
  },
  {
   "cell_type": "markdown",
   "metadata": {},
   "source": [
    "### Pre-process the Data Set (normalization, grayscale, etc.)"
   ]
  },
  {
   "cell_type": "markdown",
   "metadata": {},
   "source": [
    "Use the code cell (or multiple code cells, if necessary) to implement the first step of your project."
   ]
  },
  {
   "cell_type": "code",
   "execution_count": 6,
   "metadata": {
    "collapsed": false
   },
   "outputs": [],
   "source": [
    "### Preprocess the data here. Preprocessing steps could include normalization, converting to grayscale, etc.\n",
    "### Feel free to use as many code cells as needed.\n",
    "def pre_process_image(image):\n",
    "\n",
    "    #image = cv2.cvtColor(image, cv2.COLOR_BGR2YUV)\n",
    "    #image = image[:,:,0]\n",
    "    image[:,:,0] = cv2.equalizeHist(image[:,:,0])\n",
    "    image[:,:,1] = cv2.equalizeHist(image[:,:,1])\n",
    "    image[:,:,2] = cv2.equalizeHist(image[:,:,2])\n",
    "    image = image/255.-.5\n",
    "    #image = cv2.resize(image, (img_resize,img_resize),interpolation = cv2.INTER_CUBIC)\n",
    "\n",
    "    return image\n",
    "image_GS_train = np.array([pre_process_image(X_train[i]) for i in range(len(X_train))],\n",
    "                          dtype = np.float32)\n",
    "image_GS_test = np.array([pre_process_image(X_test[i]) for i in range(len(X_test))],\n",
    "                          dtype = np.float32)\n",
    "from sklearn.utils import shuffle\n",
    "X_train, y_train = shuffle(X_train, y_train)\n"
   ]
  },
  {
   "cell_type": "code",
   "execution_count": 7,
   "metadata": {
    "collapsed": true
   },
   "outputs": [],
   "source": [
    "#function to generate more images by rotation and shearing the image.\n",
    "def transform_image(image,ang_range,shear_range,trans_range):\n",
    "\n",
    "    # Rotation\n",
    "\n",
    "    ang_rot = np.random.uniform(ang_range)-ang_range/2\n",
    "    rows,cols,ch = image.shape    \n",
    "    Rot_M = cv2.getRotationMatrix2D((cols/2,rows/2),ang_rot,1)\n",
    "\n",
    "    # Translation\n",
    "    tr_x = trans_range*np.random.uniform()-trans_range/2\n",
    "    tr_y = trans_range*np.random.uniform()-trans_range/2\n",
    "    Trans_M = np.float32([[1,0,tr_x],[0,1,tr_y]])\n",
    "\n",
    "    # Shear\n",
    "    pts1 = np.float32([[5,5],[20,5],[5,20]])\n",
    "\n",
    "    pt1 = 5+shear_range*np.random.uniform()-shear_range/2\n",
    "    pt2 = 20+shear_range*np.random.uniform()-shear_range/2\n",
    "\n",
    "    pts2 = np.float32([[pt1,5],[pt2,pt1],[5,pt2]])\n",
    "\n",
    "    shear_M = cv2.getAffineTransform(pts1,pts2)\n",
    "\n",
    "    image = cv2.warpAffine(image,Rot_M,(cols,rows))\n",
    "    image = cv2.warpAffine(image,Trans_M,(cols,rows))\n",
    "    image = cv2.warpAffine(image,shear_M,(cols,rows))\n",
    "\n",
    "    image = pre_process_image(image)\n",
    "\n",
    "    #image = cv2.cvtColor(image, cv2.COLOR_BGR2YUV)\n",
    "    #image = image[:,:,0]\n",
    "    #image = cv2.resize(image, (img_resize,img_resize),interpolation = cv2.INTER_CUBIC)\n",
    "\n",
    "    return image\n",
    "\n",
    "def get_index_dict(y_train):\n",
    "    # Returns indices of each label\n",
    "    # Assumes that the labels are 0 to N-1\n",
    "    dict_indices = {}\n",
    "    ind_all = np.arange(len(y_train))\n",
    "\n",
    "    for i in range(len(np.unique(y_train))):\n",
    "        ind_i = ind_all[y_train == i]\n",
    "        dict_indices[i] = ind_i\n",
    "        #print(ind_i)\n",
    "    return dict_indices\n",
    "\n",
    "def gen_transformed_data(X_train,y_train,N_classes,n_each,ang_range,shear_range,trans_range,randomize_Var):\n",
    "\n",
    "    dict_indices = get_index_dict(y_train)\n",
    "    n_class = len(np.unique(y_train))\n",
    "    X_arr = []\n",
    "    Y_arr = []\n",
    "    for i in range(n_class):\n",
    "        len_i = len(dict_indices[i])\n",
    "        ind_rand = np.random.randint(0,len_i,n_each)\n",
    "        ind_dict_class  = dict_indices[i]\n",
    "\n",
    "        for i_n in range(n_each):\n",
    "            img_trf = transform_image(X_train[ind_dict_class[ind_rand[i_n]]],\n",
    "                                      ang_range,shear_range,trans_range)\n",
    "            X_arr.append(img_trf)\n",
    "            Y_arr.append(i)\n",
    "\n",
    "    X_arr = np.array(X_arr,dtype = np.float32())\n",
    "    Y_arr = np.array(Y_arr,dtype = np.float32())\n",
    "\n",
    "    if (randomize_Var == 1):\n",
    "        len_arr = np.arange(len(Y_arr))\n",
    "        np.random.shuffle(len_arr)\n",
    "        X_arr[len_arr] = X_arr\n",
    "        Y_arr[len_arr] = Y_arr\n",
    "\n",
    "    labels_arr = tf.one_hot(Y_arr,43)\n",
    "\n",
    "    return X_arr,Y_arr,labels_arr"
   ]
  },
  {
   "cell_type": "code",
   "execution_count": 8,
   "metadata": {
    "collapsed": false
   },
   "outputs": [],
   "source": [
    "#Generate additional data and split the data into training/validation/testing sets here.\n",
    "Image_train_GS_rot,y_train_rot,labels_train_rot = gen_transformed_data(X_train,y_train,\n",
    "                                                                       43,10,30,5,5,1)\n",
    "\n",
    "from sklearn.model_selection import train_test_split\n",
    "X_train_SS, X_valid_SS, y_train_SS , y_valid_SS = train_test_split(X_train, y_train, test_size = 0.25, random_state = 0)\n",
    "labels_train_SS = tf.one_hot(y_train_SS, 43)\n",
    "labels_valid_SS = tf.one_hot(y_valid_SS,43)\n",
    "image_GS_valid = np.array([pre_process_image(X_valid_SS[i]) for i in range(len(X_valid_SS))],\n",
    "                          dtype = np.float32)"
   ]
  },
  {
   "cell_type": "markdown",
   "metadata": {},
   "source": [
    "### Model Architecture"
   ]
  },
  {
   "cell_type": "code",
   "execution_count": 9,
   "metadata": {
    "collapsed": true
   },
   "outputs": [],
   "source": [
    "### Define your architecture here.\n",
    "### Feel free to use as many code cells as needed.\n",
    "EPOCHS = 20\n",
    "BATCH_SIZE = 256\n",
    "dropout = 0.5"
   ]
  },
  {
   "cell_type": "code",
   "execution_count": 38,
   "metadata": {
    "collapsed": false
   },
   "outputs": [],
   "source": [
    "weights = {\n",
    "    'w0': tf.Variable(tf.truncated_normal([1, 1, 3, 32])),\n",
    "    'w1': tf.Variable(tf.truncated_normal([5, 5, 32, 64])),\n",
    "    'wp1':tf.Variable(tf.truncated_normal([5, 5, 64, 64])),\n",
    "    'w2': tf.Variable(tf.truncated_normal([5, 5, 64, 128])),\n",
    "    'wp2':tf.Variable(tf.truncated_normal([5, 5, 128, 128])),\n",
    "    'w3': tf.Variable(tf.truncated_normal([5, 5, 128, 256])),\n",
    "    'wp3':tf.Variable(tf.truncated_normal([5, 5, 256, 256])),\n",
    "    'wd1':tf.Variable(tf.truncated_normal([4096, 1024])),\n",
    "    'wd2':tf.Variable(tf.truncated_normal([1024, 1024])),\n",
    "    'out':tf.Variable(tf.truncated_normal([1024, 43]))\n",
    "    }\n",
    "biases = {\n",
    "    'b0': tf.Variable(tf.truncated_normal([32])),\n",
    "    'b1': tf.Variable(tf.truncated_normal([64])),\n",
    "    'b2': tf.Variable(tf.truncated_normal([128])),\n",
    "    'b3': tf.Variable(tf.truncated_normal([256])),\n",
    "    'b4': tf.Variable(tf.truncated_normal([1024])),\n",
    "    'out':tf.Variable(tf.truncated_normal([43]))}\n",
    "def conv2d(x, W, b, strides=1):\n",
    "    x = tf.nn.conv2d(x, W, strides=[1, strides, strides, 1], padding='SAME')\n",
    "    x = tf.nn.bias_add(x, b)\n",
    "    return tf.nn.relu(x)\n",
    "\n",
    "def maxpool2d(x, k=2):\n",
    "    return tf.nn.max_pool(x, ksize=[1, k, k, 1], strides=[1, k, k, 1], padding='SAME')\n"
   ]
  },
  {
   "cell_type": "code",
   "execution_count": 39,
   "metadata": {
    "collapsed": false
   },
   "outputs": [],
   "source": [
    "def conv_net(x, weights, biases, dropout):\n",
    "    #Layer 0: Convolutional. Input = 32x32x3. Output = 32x32x32.\n",
    "    conv0 = conv2d(x, weights['w0'], biases['b0'])\n",
    "    #Layer 1: Convolutional. Input = 32x32x32. Output = 32x32x64.\n",
    "    conv1 = conv2d(conv0, weights['w1'], biases['b1'])\n",
    "    #Layer 2: Convolutional. Input = 32x32x64. Output = 32x32x64.\n",
    "    conv2 = conv2d(conv1, weights['wp1'], biases['b1'])\n",
    "    #Pooling. Input = 32x32x64. Output = 16x16x64.\n",
    "    conv2 = maxpool2d(conv2, k=2)\n",
    "    conv2 = tf.nn.dropout(conv2, dropout)\n",
    "    #Layer 3: Convolutional. Input = 16x16x64. Output = 16x16x128.\n",
    "    conv3 = conv2d(conv2, weights['w2'], biases['b2'])\n",
    "    #Layer 4: Convolutional. Input = 16x16x128. Output = 16x16x128.\n",
    "    conv4 = conv2d(conv3, weights['wp2'], biases['b2'])\n",
    "    #Pooling. Input = 16x16x128. Output = 8x8x128.\n",
    "    conv4 = maxpool2d(conv4, k=2)\n",
    "    conv4 = tf.nn.dropout(conv4, dropout)\n",
    "    #Layer 5: Convolutional. Input = 8x8x128. Output = 8x8x256.\n",
    "    conv5 = conv2d(conv4, weights['w3'], biases['b3'])\n",
    "    #Layer 6: Convolutional. Input = 8x8x256. Output = 8x8x256.\n",
    "    conv6 = conv2d(conv5, weights['wp3'], biases['b3'])\n",
    "    #Pooling. Input = 8x8x256. Output = 4x4x256.\n",
    "    conv6 = maxpool2d(conv6, k=2)\n",
    "    conv6 = tf.nn.dropout(conv6, dropout)\n",
    "    #Flatten. Input = 4x4x128. Output = 4096.\n",
    "    #flat_layer = flatten(conv6)\n",
    "    #conv6_shape = conv6.get_shape().as_list()\n",
    "    #fc1 = tf.reshape(conv6, [-1, conv6_shape[1]*conv6_shape[2]*conv6_shape[3]])\n",
    "    fc1 = tf.reshape(conv6, [-1, weights['wd1'].get_shape().as_list()[0]])\n",
    "    #Layer 7: Fully Connected. Input = 4096. Output = 1024.\n",
    "    fc1 = tf.add(tf.matmul(fc1, weights['wd1']), biases['b4'])\n",
    "    fc1 = tf.nn.relu(fc1)\n",
    "    fc1 = tf.nn.dropout(fc1, dropout)\n",
    "    #Layer 8: Fully Connected. Input = 1024. Output = 1024.\n",
    "    fc2 = tf.add(tf.matmul(fc1, weights['wd2']), biases['b4'])\n",
    "    fc2 = tf.nn.relu(fc2)\n",
    "    fc2 = tf.nn.dropout(fc2, dropout)\n",
    "    #Layer 9: Fully Connected. Input = 1024. Output = 43.\n",
    "    logits = tf.add(tf.matmul(fc2, weights['out']), biases['out'])\n",
    "    return logits\n",
    "\n",
    "\n",
    "regularizers = (tf.nn.l2_loss(weights['w0']) \n",
    "                + tf.nn.l2_loss(weights['w1']) + tf.nn.l2_loss(weights['wp1']) \n",
    "                + tf.nn.l2_loss(weights['w2']) + tf.nn.l2_loss(weights['wp2']) \n",
    "                + tf.nn.l2_loss(weights['w3']) + tf.nn.l2_loss(weights['wp3']) \n",
    "                + tf.nn.l2_loss(weights['wd1'])  + tf.nn.l2_loss(weights['wd2']) +\n",
    "                tf.nn.l2_loss(weights['out'])) "
   ]
  },
  {
   "cell_type": "markdown",
   "metadata": {},
   "source": [
    "### Train, Validate and Test the Model"
   ]
  },
  {
   "cell_type": "markdown",
   "metadata": {},
   "source": [
    "A validation set can be used to assess how well the model is performing. A low accuracy on the training and validation\n",
    "sets imply underfitting. A high accuracy on the test set but low accuracy on the validation set implies overfitting."
   ]
  },
  {
   "cell_type": "code",
   "execution_count": 40,
   "metadata": {
    "collapsed": false
   },
   "outputs": [],
   "source": [
    "### Train your model here.\n",
    "### Calculate and report the accuracy on the training and validation set.\n",
    "### Once a final model architecture is selected, \n",
    "### the accuracy on the test set should be calculated and reported as well.\n",
    "### Feel free to use as many code cells as needed.\n",
    "x = tf.placeholder(tf.float32, (None, 32, 32, 3))\n",
    "y = tf.placeholder(tf.int32, (None))\n",
    "one_hot_y = tf.one_hot(y, 43)\n",
    "keep_prob = tf.placeholder(tf.float32)"
   ]
  },
  {
   "cell_type": "code",
   "execution_count": 41,
   "metadata": {
    "collapsed": false
   },
   "outputs": [],
   "source": [
    "logits = conv_net(x, weights, biases, keep_prob)\n",
    "cost = tf.reduce_mean(tf.nn.softmax_cross_entropy_with_logits(logits, one_hot_y))+1e-5*regularizers\n",
    "optimizer = tf.train.AdamOptimizer(learning_rate=1e-3).minimize(cost)\n",
    "correct_pred = tf.equal(tf.argmax(logits, 1), tf.argmax(one_hot_y, 1))\n",
    "accuracy = tf.reduce_mean(tf.cast(correct_pred, tf.float32))\n",
    "saver = tf.train.Saver()"
   ]
  },
  {
   "cell_type": "code",
   "execution_count": 52,
   "metadata": {
    "collapsed": true
   },
   "outputs": [],
   "source": [
    "def evaluate(X_data, y_data, d_p_value):\n",
    "    num_examples = len(X_data)\n",
    "    total_accuracy = 0\n",
    "    sess = tf.get_default_session()\n",
    "    for offset in range(0, num_examples, BATCH_SIZE):\n",
    "        batch_x, batch_y = X_data[offset:offset+BATCH_SIZE], y_data[offset:offset+BATCH_SIZE]\n",
    "        acc = sess.run(accuracy, feed_dict={x: batch_x, y: batch_y, keep_prob : d_p_value})\n",
    "        total_accuracy += (acc * len(batch_x))\n",
    "    return total_accuracy / num_examples"
   ]
  },
  {
   "cell_type": "code",
   "execution_count": 53,
   "metadata": {
    "collapsed": false
   },
   "outputs": [
    {
     "name": "stdout",
     "output_type": "stream",
     "text": [
      "Training...\n",
      "\n",
      "EPOCH 1 ...\n",
      "Validation Accuracy = 0.048\n",
      "\n",
      "EPOCH 2 ...\n",
      "Validation Accuracy = 0.043\n",
      "\n",
      "EPOCH 3 ...\n",
      "Validation Accuracy = 0.031\n",
      "\n",
      "EPOCH 4 ...\n",
      "Validation Accuracy = 0.028\n",
      "\n",
      "EPOCH 5 ...\n",
      "Validation Accuracy = 0.033\n",
      "\n",
      "EPOCH 6 ...\n",
      "Validation Accuracy = 0.045\n",
      "\n",
      "EPOCH 7 ...\n",
      "Validation Accuracy = 0.052\n",
      "\n",
      "EPOCH 8 ...\n",
      "Validation Accuracy = 0.057\n",
      "\n",
      "EPOCH 9 ...\n",
      "Validation Accuracy = 0.058\n",
      "\n",
      "EPOCH 10 ...\n",
      "Validation Accuracy = 0.057\n",
      "\n",
      "EPOCH 11 ...\n",
      "Validation Accuracy = 0.057\n",
      "\n",
      "EPOCH 12 ...\n",
      "Validation Accuracy = 0.057\n",
      "\n",
      "EPOCH 13 ...\n",
      "Validation Accuracy = 0.055\n",
      "\n",
      "EPOCH 14 ...\n",
      "Validation Accuracy = 0.056\n",
      "\n",
      "EPOCH 15 ...\n",
      "Validation Accuracy = 0.055\n",
      "\n",
      "EPOCH 16 ...\n",
      "Validation Accuracy = 0.055\n",
      "\n",
      "EPOCH 17 ...\n",
      "Validation Accuracy = 0.054\n",
      "\n",
      "EPOCH 18 ...\n",
      "Validation Accuracy = 0.054\n",
      "\n",
      "EPOCH 19 ...\n",
      "Validation Accuracy = 0.053\n",
      "\n",
      "EPOCH 20 ...\n",
      "Validation Accuracy = 0.054\n",
      "\n",
      "Model saved\n"
     ]
    }
   ],
   "source": [
    "with tf.Session() as sess:\n",
    "    sess.run(tf.global_variables_initializer())\n",
    "    num_examples = len(Image_train_GS_rot)\n",
    "    \n",
    "    print(\"Training...\")\n",
    "    print()\n",
    "    for i in range(EPOCHS):\n",
    "        Image_train_GS_rot, y_train_rot = shuffle(Image_train_GS_rot, y_train_rot)\n",
    "        for offset in range(0, num_examples, BATCH_SIZE):\n",
    "            end = offset + BATCH_SIZE\n",
    "            batch_x, batch_y = Image_train_GS_rot[offset:end], y_train_rot[offset:end]\n",
    "            sess.run(optimizer, feed_dict={x: batch_x, y: batch_y, keep_prob: 0.5})\n",
    "            \n",
    "        validation_accuracy = evaluate(image_GS_valid, y_valid_SS, d_p_value=1.0)\n",
    "        print(\"EPOCH {} ...\".format(i+1))\n",
    "        print(\"Validation Accuracy = {:.3f}\".format(validation_accuracy))\n",
    "        print()\n",
    "        \n",
    "    saver.save(sess, './conv_net')\n",
    "    print(\"Model saved\")"
   ]
  },
  {
   "cell_type": "code",
   "execution_count": null,
   "metadata": {
    "collapsed": false
   },
   "outputs": [],
   "source": [
    "with tf.Session() as sess:\n",
    "    saver.restore(sess, tf.train.latest_checkpoint('.'))\n",
    "\n",
    "    test_accuracy = evaluate(image_GS_test, y_test, d_p_value=1.0)\n",
    "    print(\"Test Accuracy = {:.3f}\".format(test_accuracy))"
   ]
  },
  {
   "cell_type": "markdown",
   "metadata": {},
   "source": [
    "---\n",
    "\n",
    "## Step 3: Test a Model on New Images\n",
    "\n",
    "To give yourself more insight into how your model is working, download at least five pictures of German traffic signs from the web and use your model to predict the traffic sign type.\n",
    "\n",
    "You may find `signnames.csv` useful as it contains mappings from the class id (integer) to the actual sign name."
   ]
  },
  {
   "cell_type": "markdown",
   "metadata": {},
   "source": [
    "### Load and Output the Images"
   ]
  },
  {
   "cell_type": "code",
   "execution_count": null,
   "metadata": {
    "collapsed": true
   },
   "outputs": [],
   "source": [
    "### Load the images and plot them here.\n",
    "### Feel free to use as many code cells as needed."
   ]
  },
  {
   "cell_type": "markdown",
   "metadata": {},
   "source": [
    "### Predict the Sign Type for Each Image"
   ]
  },
  {
   "cell_type": "code",
   "execution_count": null,
   "metadata": {
    "collapsed": true
   },
   "outputs": [],
   "source": [
    "### Run the predictions here and use the model to output the prediction for each image.\n",
    "### Make sure to pre-process the images with the same pre-processing pipeline used earlier.\n",
    "### Feel free to use as many code cells as needed."
   ]
  },
  {
   "cell_type": "markdown",
   "metadata": {},
   "source": [
    "### Analyze Performance"
   ]
  },
  {
   "cell_type": "code",
   "execution_count": null,
   "metadata": {
    "collapsed": true
   },
   "outputs": [],
   "source": [
    "### Calculate the accuracy for these 5 new images. \n",
    "### For example, if the model predicted 1 out of 5 signs correctly, it's 20% accurate on these new images."
   ]
  },
  {
   "cell_type": "markdown",
   "metadata": {},
   "source": [
    "### Output Top 5 Softmax Probabilities For Each Image Found on the Web"
   ]
  },
  {
   "cell_type": "markdown",
   "metadata": {},
   "source": [
    "For each of the new images, print out the model's softmax probabilities to show the **certainty** of the model's predictions (limit the output to the top 5 probabilities for each image). [`tf.nn.top_k`](https://www.tensorflow.org/versions/r0.12/api_docs/python/nn.html#top_k) could prove helpful here. \n",
    "\n",
    "The example below demonstrates how tf.nn.top_k can be used to find the top k predictions for each image.\n",
    "\n",
    "`tf.nn.top_k` will return the values and indices (class ids) of the top k predictions. So if k=3, for each sign, it'll return the 3 largest probabilities (out of a possible 43) and the correspoding class ids.\n",
    "\n",
    "Take this numpy array as an example. The values in the array represent predictions. The array contains softmax probabilities for five candidate images with six possible classes. `tk.nn.top_k` is used to choose the three classes with the highest probability:\n",
    "\n",
    "```\n",
    "# (5, 6) array\n",
    "a = np.array([[ 0.24879643,  0.07032244,  0.12641572,  0.34763842,  0.07893497,\n",
    "         0.12789202],\n",
    "       [ 0.28086119,  0.27569815,  0.08594638,  0.0178669 ,  0.18063401,\n",
    "         0.15899337],\n",
    "       [ 0.26076848,  0.23664738,  0.08020603,  0.07001922,  0.1134371 ,\n",
    "         0.23892179],\n",
    "       [ 0.11943333,  0.29198961,  0.02605103,  0.26234032,  0.1351348 ,\n",
    "         0.16505091],\n",
    "       [ 0.09561176,  0.34396535,  0.0643941 ,  0.16240774,  0.24206137,\n",
    "         0.09155967]])\n",
    "```\n",
    "\n",
    "Running it through `sess.run(tf.nn.top_k(tf.constant(a), k=3))` produces:\n",
    "\n",
    "```\n",
    "TopKV2(values=array([[ 0.34763842,  0.24879643,  0.12789202],\n",
    "       [ 0.28086119,  0.27569815,  0.18063401],\n",
    "       [ 0.26076848,  0.23892179,  0.23664738],\n",
    "       [ 0.29198961,  0.26234032,  0.16505091],\n",
    "       [ 0.34396535,  0.24206137,  0.16240774]]), indices=array([[3, 0, 5],\n",
    "       [0, 1, 4],\n",
    "       [0, 5, 1],\n",
    "       [1, 3, 5],\n",
    "       [1, 4, 3]], dtype=int32))\n",
    "```\n",
    "\n",
    "Looking just at the first row we get `[ 0.34763842,  0.24879643,  0.12789202]`, you can confirm these are the 3 largest probabilities in `a`. You'll also notice `[3, 0, 5]` are the corresponding indices."
   ]
  },
  {
   "cell_type": "code",
   "execution_count": null,
   "metadata": {
    "collapsed": true
   },
   "outputs": [],
   "source": [
    "### Print out the top five softmax probabilities for the predictions on the German traffic sign images found on the web. \n",
    "### Feel free to use as many code cells as needed."
   ]
  },
  {
   "cell_type": "markdown",
   "metadata": {},
   "source": [
    "> **Note**: Once you have completed all of the code implementations, you need to finalize your work by exporting the IPython Notebook as an HTML document. Before exporting the notebook to html, all of the code cells need to have been run. You can then export the notebook by using the menu above and navigating to  \\n\",\n",
    "    \"**File -> Download as -> HTML (.html)**. Include the finished document along with this notebook as your submission. "
   ]
  },
  {
   "cell_type": "markdown",
   "metadata": {},
   "source": [
    "### Project Writeup\n",
    "\n",
    "Once you have completed the code implementation, document your results in a project writeup using this [template](https://github.com/udacity/CarND-Traffic-Sign-Classifier-Project/blob/master/writeup_template.md) as a guide. The writeup can be in a markdown or pdf file. "
   ]
  }
 ],
 "metadata": {
  "anaconda-cloud": {},
  "kernelspec": {
   "display_name": "Python [default]",
   "language": "python",
   "name": "python3"
  },
  "language_info": {
   "codemirror_mode": {
    "name": "ipython",
    "version": 3
   },
   "file_extension": ".py",
   "mimetype": "text/x-python",
   "name": "python",
   "nbconvert_exporter": "python",
   "pygments_lexer": "ipython3",
   "version": "3.5.2"
  }
 },
 "nbformat": 4,
 "nbformat_minor": 1
}
